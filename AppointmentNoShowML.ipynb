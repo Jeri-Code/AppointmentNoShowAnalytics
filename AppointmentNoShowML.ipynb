{
 "cells": [
  {
   "attachments": {},
   "cell_type": "markdown",
   "metadata": {},
   "source": [
    "# Medical Appointment No Shows\n",
    "Jericho Timbol\n",
    ">Q1. Patients make appointments at clinics or hospitals to be checked by a doctor. Some of the patients do not show up for their appointments. This results in loss of valuable resources in terms of physician time and staffing allocation which could have been used more productively. This problem can be posed as a binary classification problem to predict the label of the No-Show class. Labels = {Yes, No}. The data is available through Kaggle. The following set of variables are available for model creation: PatientId, AppointmentID, Gender, ScheduledDay, AppointmentDay, Age, Neighbourhood, Scholarship, Hipertension, Diabetes, Alcoholism, Handcap, SMS_received, No-show."
   ]
  },
  {
   "attachments": {},
   "cell_type": "markdown",
   "metadata": {},
   "source": [
    "# Setup and Loading the dataset"
   ]
  },
  {
   "attachments": {},
   "cell_type": "markdown",
   "metadata": {},
   "source": [
    "Setting up my modules, loading the data, and checking if the dataframe is working is the first step."
   ]
  },
  {
   "cell_type": "code",
   "execution_count": 1,
   "metadata": {},
   "outputs": [
    {
     "data": {
      "text/html": [
       "<div>\n",
       "<style scoped>\n",
       "    .dataframe tbody tr th:only-of-type {\n",
       "        vertical-align: middle;\n",
       "    }\n",
       "\n",
       "    .dataframe tbody tr th {\n",
       "        vertical-align: top;\n",
       "    }\n",
       "\n",
       "    .dataframe thead th {\n",
       "        text-align: right;\n",
       "    }\n",
       "</style>\n",
       "<table border=\"1\" class=\"dataframe\">\n",
       "  <thead>\n",
       "    <tr style=\"text-align: right;\">\n",
       "      <th></th>\n",
       "      <th>PatientId</th>\n",
       "      <th>AppointmentID</th>\n",
       "      <th>Gender</th>\n",
       "      <th>ScheduledDay</th>\n",
       "      <th>AppointmentDay</th>\n",
       "      <th>Age</th>\n",
       "      <th>Neighbourhood</th>\n",
       "      <th>Scholarship</th>\n",
       "      <th>Hipertension</th>\n",
       "      <th>Diabetes</th>\n",
       "      <th>Alcoholism</th>\n",
       "      <th>Handcap</th>\n",
       "      <th>SMS_received</th>\n",
       "      <th>No-show</th>\n",
       "    </tr>\n",
       "  </thead>\n",
       "  <tbody>\n",
       "    <tr>\n",
       "      <th>0</th>\n",
       "      <td>2.987250e+13</td>\n",
       "      <td>5642903</td>\n",
       "      <td>F</td>\n",
       "      <td>2016-04-29T18:38:08Z</td>\n",
       "      <td>2016-04-29T00:00:00Z</td>\n",
       "      <td>62</td>\n",
       "      <td>JARDIM DA PENHA</td>\n",
       "      <td>0</td>\n",
       "      <td>1</td>\n",
       "      <td>0</td>\n",
       "      <td>0</td>\n",
       "      <td>0</td>\n",
       "      <td>0</td>\n",
       "      <td>No</td>\n",
       "    </tr>\n",
       "    <tr>\n",
       "      <th>1</th>\n",
       "      <td>5.589978e+14</td>\n",
       "      <td>5642503</td>\n",
       "      <td>M</td>\n",
       "      <td>2016-04-29T16:08:27Z</td>\n",
       "      <td>2016-04-29T00:00:00Z</td>\n",
       "      <td>56</td>\n",
       "      <td>JARDIM DA PENHA</td>\n",
       "      <td>0</td>\n",
       "      <td>0</td>\n",
       "      <td>0</td>\n",
       "      <td>0</td>\n",
       "      <td>0</td>\n",
       "      <td>0</td>\n",
       "      <td>No</td>\n",
       "    </tr>\n",
       "    <tr>\n",
       "      <th>2</th>\n",
       "      <td>4.262962e+12</td>\n",
       "      <td>5642549</td>\n",
       "      <td>F</td>\n",
       "      <td>2016-04-29T16:19:04Z</td>\n",
       "      <td>2016-04-29T00:00:00Z</td>\n",
       "      <td>62</td>\n",
       "      <td>MATA DA PRAIA</td>\n",
       "      <td>0</td>\n",
       "      <td>0</td>\n",
       "      <td>0</td>\n",
       "      <td>0</td>\n",
       "      <td>0</td>\n",
       "      <td>0</td>\n",
       "      <td>No</td>\n",
       "    </tr>\n",
       "    <tr>\n",
       "      <th>3</th>\n",
       "      <td>8.679512e+11</td>\n",
       "      <td>5642828</td>\n",
       "      <td>F</td>\n",
       "      <td>2016-04-29T17:29:31Z</td>\n",
       "      <td>2016-04-29T00:00:00Z</td>\n",
       "      <td>8</td>\n",
       "      <td>PONTAL DE CAMBURI</td>\n",
       "      <td>0</td>\n",
       "      <td>0</td>\n",
       "      <td>0</td>\n",
       "      <td>0</td>\n",
       "      <td>0</td>\n",
       "      <td>0</td>\n",
       "      <td>No</td>\n",
       "    </tr>\n",
       "    <tr>\n",
       "      <th>4</th>\n",
       "      <td>8.841186e+12</td>\n",
       "      <td>5642494</td>\n",
       "      <td>F</td>\n",
       "      <td>2016-04-29T16:07:23Z</td>\n",
       "      <td>2016-04-29T00:00:00Z</td>\n",
       "      <td>56</td>\n",
       "      <td>JARDIM DA PENHA</td>\n",
       "      <td>0</td>\n",
       "      <td>1</td>\n",
       "      <td>1</td>\n",
       "      <td>0</td>\n",
       "      <td>0</td>\n",
       "      <td>0</td>\n",
       "      <td>No</td>\n",
       "    </tr>\n",
       "  </tbody>\n",
       "</table>\n",
       "</div>"
      ],
      "text/plain": [
       "      PatientId  AppointmentID Gender          ScheduledDay  \\\n",
       "0  2.987250e+13        5642903      F  2016-04-29T18:38:08Z   \n",
       "1  5.589978e+14        5642503      M  2016-04-29T16:08:27Z   \n",
       "2  4.262962e+12        5642549      F  2016-04-29T16:19:04Z   \n",
       "3  8.679512e+11        5642828      F  2016-04-29T17:29:31Z   \n",
       "4  8.841186e+12        5642494      F  2016-04-29T16:07:23Z   \n",
       "\n",
       "         AppointmentDay  Age      Neighbourhood  Scholarship  Hipertension  \\\n",
       "0  2016-04-29T00:00:00Z   62    JARDIM DA PENHA            0             1   \n",
       "1  2016-04-29T00:00:00Z   56    JARDIM DA PENHA            0             0   \n",
       "2  2016-04-29T00:00:00Z   62      MATA DA PRAIA            0             0   \n",
       "3  2016-04-29T00:00:00Z    8  PONTAL DE CAMBURI            0             0   \n",
       "4  2016-04-29T00:00:00Z   56    JARDIM DA PENHA            0             1   \n",
       "\n",
       "   Diabetes  Alcoholism  Handcap  SMS_received No-show  \n",
       "0         0           0        0             0      No  \n",
       "1         0           0        0             0      No  \n",
       "2         0           0        0             0      No  \n",
       "3         0           0        0             0      No  \n",
       "4         1           0        0             0      No  "
      ]
     },
     "execution_count": 1,
     "metadata": {},
     "output_type": "execute_result"
    }
   ],
   "source": [
    "#Importing Utilized Packages\n",
    "import numpy as np\n",
    "import pandas as pd\n",
    "import matplotlib.pyplot as plt\n",
    "from sklearn import tree\n",
    "from sklearn.model_selection import train_test_split\n",
    "from sklearn.metrics import roc_curve, roc_auc_score\n",
    "\n",
    "\n",
    "#Load DataFrame\n",
    "df = pd.read_csv(\"Med_Appoint_Data.csv\")\n",
    "\n",
    "#Drop na values\n",
    "df = df.dropna(axis=0)\n",
    "\n",
    "df.head()"
   ]
  },
  {
   "attachments": {},
   "cell_type": "markdown",
   "metadata": {},
   "source": [
    "# Exploratory Data Analysis"
   ]
  },
  {
   "attachments": {},
   "cell_type": "markdown",
   "metadata": {},
   "source": [
    "I am beginning the investigation by getting info on the data types in the dataset as well as checking for any null values. I am starting my proccess with the intention of investigating comparison statistics between the features and the target in order to uncover features with possibly high information gain."
   ]
  },
  {
   "cell_type": "code",
   "execution_count": 2,
   "metadata": {},
   "outputs": [
    {
     "name": "stdout",
     "output_type": "stream",
     "text": [
      "<class 'pandas.core.frame.DataFrame'>\n",
      "RangeIndex: 110527 entries, 0 to 110526\n",
      "Data columns (total 14 columns):\n",
      " #   Column          Non-Null Count   Dtype  \n",
      "---  ------          --------------   -----  \n",
      " 0   PatientId       110527 non-null  float64\n",
      " 1   AppointmentID   110527 non-null  int64  \n",
      " 2   Gender          110527 non-null  object \n",
      " 3   ScheduledDay    110527 non-null  object \n",
      " 4   AppointmentDay  110527 non-null  object \n",
      " 5   Age             110527 non-null  int64  \n",
      " 6   Neighbourhood   110527 non-null  object \n",
      " 7   Scholarship     110527 non-null  int64  \n",
      " 8   Hipertension    110527 non-null  int64  \n",
      " 9   Diabetes        110527 non-null  int64  \n",
      " 10  Alcoholism      110527 non-null  int64  \n",
      " 11  Handcap         110527 non-null  int64  \n",
      " 12  SMS_received    110527 non-null  int64  \n",
      " 13  No-show         110527 non-null  object \n",
      "dtypes: float64(1), int64(8), object(5)\n",
      "memory usage: 11.8+ MB\n"
     ]
    },
    {
     "data": {
      "text/html": [
       "<div>\n",
       "<style scoped>\n",
       "    .dataframe tbody tr th:only-of-type {\n",
       "        vertical-align: middle;\n",
       "    }\n",
       "\n",
       "    .dataframe tbody tr th {\n",
       "        vertical-align: top;\n",
       "    }\n",
       "\n",
       "    .dataframe thead th {\n",
       "        text-align: right;\n",
       "    }\n",
       "</style>\n",
       "<table border=\"1\" class=\"dataframe\">\n",
       "  <thead>\n",
       "    <tr style=\"text-align: right;\">\n",
       "      <th></th>\n",
       "      <th>counts</th>\n",
       "      <th>normalized_counts</th>\n",
       "    </tr>\n",
       "  </thead>\n",
       "  <tbody>\n",
       "    <tr>\n",
       "      <th>No</th>\n",
       "      <td>88208</td>\n",
       "      <td>0.798067</td>\n",
       "    </tr>\n",
       "    <tr>\n",
       "      <th>Yes</th>\n",
       "      <td>22319</td>\n",
       "      <td>0.201933</td>\n",
       "    </tr>\n",
       "  </tbody>\n",
       "</table>\n",
       "</div>"
      ],
      "text/plain": [
       "     counts  normalized_counts\n",
       "No    88208           0.798067\n",
       "Yes   22319           0.201933"
      ]
     },
     "execution_count": 2,
     "metadata": {},
     "output_type": "execute_result"
    },
    {
     "data": {
      "image/png": "[encoded data removed]",
      "text/plain": [
       "<Figure size 500x400 with 1 Axes>"
      ]
     },
     "metadata": {},
     "output_type": "display_data"
    }
   ],
   "source": [
    "#Checking Data Type, Count, Columns\n",
    "df.info()\n",
    "\n",
    "#Plotting Target feature count\n",
    "f = plt.figure()\n",
    "f.set_figwidth(5)\n",
    "f.set_figheight(4)\n",
    "df[\"No-show\"].value_counts().plot.bar(title =\"No-Show at their Appointment?\")\n",
    "\n",
    "#Showing Count of No-show as well as relative frequency\n",
    "pd.concat(\n",
    "    [\n",
    "        df[\"No-show\"].value_counts(),\n",
    "        df[\"No-show\"].value_counts(normalize=True)\n",
    "    ],\n",
    "    keys=['counts', 'normalized_counts'],\n",
    "    axis=1,\n",
    ")"
   ]
  },
  {
   "attachments": {},
   "cell_type": "markdown",
   "metadata": {},
   "source": [
    ">After seeing this it is clear to see that there is a skew in data with \"No\" having almost 4x the count of \"Yes\""
   ]
  },
  {
   "attachments": {},
   "cell_type": "markdown",
   "metadata": {},
   "source": [
    ">Similar to the method above, I loop through numerical features and display tables of all the features compared to the No-show column."
   ]
  },
  {
   "cell_type": "code",
   "execution_count": 3,
   "metadata": {},
   "outputs": [
    {
     "name": "stdout",
     "output_type": "stream",
     "text": [
      "                       counts  normalized_counts\n",
      "Scholarship No-show                             \n",
      "0           No       0.801928              79925\n",
      "            Yes      0.198072              19741\n",
      "1           No       0.762637               8283\n",
      "            Yes      0.237363               2578\n",
      "                        counts  normalized_counts\n",
      "Hipertension No-show                             \n",
      "0            No       0.790963              70179\n",
      "             Yes      0.209037              18547\n",
      "1            No       0.826980              18029\n",
      "             Yes      0.173020               3772\n",
      "                    counts  normalized_counts\n",
      "Diabetes No-show                             \n",
      "0        No       0.796372              81695\n",
      "         Yes      0.203628              20889\n",
      "1        No       0.819967               6513\n",
      "         Yes      0.180033               1430\n",
      "                      counts  normalized_counts\n",
      "Alcoholism No-show                             \n",
      "0          No       0.798054              85525\n",
      "           Yes      0.201946              21642\n",
      "1          No       0.798512               2683\n",
      "           Yes      0.201488                677\n",
      "                   counts  normalized_counts\n",
      "Handcap No-show                             \n",
      "0       No       0.797647              86374\n",
      "        Yes      0.202353              21912\n",
      "1       No       0.820764               1676\n",
      "        Yes      0.179236                366\n",
      "2       No       0.797814                146\n",
      "        Yes      0.202186                 37\n",
      "3       No       0.769231                 10\n",
      "        Yes      0.230769                  3\n",
      "4       No       0.666667                  2\n",
      "        Yes      0.333333                  1\n",
      "                        counts  normalized_counts\n",
      "SMS_received No-show                             \n",
      "0            No       0.832967              62510\n",
      "             Yes      0.167033              12535\n",
      "1            No       0.724255              25698\n",
      "             Yes      0.275745               9784\n",
      "Gender  No-show\n",
      "F       No         0.796854\n",
      "        Yes        0.203146\n",
      "M       No         0.800321\n",
      "        Yes        0.199679\n",
      "Name: No-show, dtype: float64\n",
      "Gender  No-show\n",
      "F       No         57246\n",
      "        Yes        14594\n",
      "M       No         30962\n",
      "        Yes         7725\n",
      "Name: No-show, dtype: int64\n",
      "No-show  Neighbourhood              \n",
      "No       JARDIM CAMBURI                 0.070878\n",
      "         MARIA ORTIZ                    0.051991\n",
      "         RESISTÊNCIA                    0.039962\n",
      "         JARDIM DA PENHA                0.036799\n",
      "         SANTA MARTHA                   0.029873\n",
      "                                          ...   \n",
      "Yes      PONTAL DE CAMBURI              0.000538\n",
      "         ILHA DO BOI                    0.000134\n",
      "         ILHA DO FRADE                  0.000090\n",
      "         ILHAS OCEÂNICAS DE TRINDADE    0.000090\n",
      "         AEROPORTO                      0.000045\n",
      "Name: Neighbourhood, Length: 160, dtype: float64\n",
      "No-show  Neighbourhood  \n",
      "No       JARDIM CAMBURI     6252\n",
      "         MARIA ORTIZ        4586\n",
      "         RESISTÊNCIA        3525\n",
      "         JARDIM DA PENHA    3246\n",
      "         SANTA MARTHA       2635\n",
      "Name: Neighbourhood, dtype: int64\n"
     ]
    }
   ],
   "source": [
    "#Numerical Feature Definition\n",
    "num_features = [\"Scholarship\", \"Hipertension\", \"Diabetes\", \"Alcoholism\", \"Handcap\", \"SMS_received\"] \n",
    "\n",
    "#Numerical feature norm count and count based on target feature\n",
    "for col in num_features:\n",
    "    print(pd.concat(\n",
    "    [\n",
    "        df.groupby(col)[\"No-show\"].value_counts(normalize= True),\n",
    "        df.groupby(col)[\"No-show\"].value_counts()\n",
    "    ],\n",
    "    keys=['counts', 'normalized_counts'],\n",
    "    axis=1,\n",
    "    ))\n",
    "\n",
    "\n",
    "#Catagorical Feature Count and Norm Count\n",
    "print(df.groupby(\"Gender\")[\"No-show\"].value_counts(normalize= True))\n",
    "print(df.groupby(\"Gender\")[\"No-show\"].value_counts())\n",
    "print(df.groupby(\"No-show\")[\"Neighbourhood\"].value_counts(normalize = True))\n",
    "print(df.groupby(\"No-show\")[\"Neighbourhood\"].value_counts().head())\n",
    "\n"
   ]
  },
  {
   "attachments": {},
   "cell_type": "markdown",
   "metadata": {},
   "source": [
    ">Exploring  Age Feature\n",
    "\n",
    "The Age feature varies in range rather than being true or false in nature. That being said I wanted to provide a graphical representation of it compare to No-show data."
   ]
  },
  {
   "attachments": {},
   "cell_type": "markdown",
   "metadata": {},
   "source": [
    "After a little exploration I found a record containing an age of -1"
   ]
  },
  {
   "cell_type": "code",
   "execution_count": 4,
   "metadata": {},
   "outputs": [
    {
     "name": "stdout",
     "output_type": "stream",
     "text": [
      "          PatientId  AppointmentID Gender          ScheduledDay  \\\n",
      "99832  4.659432e+14        5775010      F  2016-06-06T08:58:13Z   \n",
      "\n",
      "             AppointmentDay  Age Neighbourhood  Scholarship  Hipertension  \\\n",
      "99832  2016-06-06T00:00:00Z   -1         ROMÃO            0             0   \n",
      "\n",
      "       Diabetes  Alcoholism  Handcap  SMS_received No-show  \n",
      "99832         0           0        0             0      No  \n",
      "Empty DataFrame\n",
      "Columns: [PatientId, AppointmentID, Gender, ScheduledDay, AppointmentDay, Age, Neighbourhood, Scholarship, Hipertension, Diabetes, Alcoholism, Handcap, SMS_received, No-show]\n",
      "Index: []\n"
     ]
    }
   ],
   "source": [
    "#One Record with invalid age\n",
    "print(df[df[\"Age\"] == -1])\n",
    "\n",
    "#Remove Record\n",
    "df = df.drop(99832)\n",
    "\n",
    "#Confirm Removal\n",
    "print(df[df[\"Age\"] == -1])\n"
   ]
  },
  {
   "attachments": {},
   "cell_type": "markdown",
   "metadata": {},
   "source": [
    "I represented statistics associated with Age and graphed it due to its temporal nature"
   ]
  },
  {
   "cell_type": "code",
   "execution_count": 5,
   "metadata": {},
   "outputs": [
    {
     "name": "stdout",
     "output_type": "stream",
     "text": [
      "0    639\n",
      "1    415\n",
      "2    252\n",
      "3    277\n",
      "4    282\n",
      "Name: Age, dtype: int64\n",
      "0    2900\n",
      "1    1858\n",
      "2    1366\n",
      "3    1236\n",
      "4    1017\n",
      "Name: Age, dtype: int64\n"
     ]
    },
    {
     "data": {
      "image/png": "[encoded data removed]",
      "text/plain": [
       "<Figure size 500x400 with 1 Axes>"
      ]
     },
     "metadata": {},
     "output_type": "display_data"
    },
    {
     "data": {
      "image/png": "[encoded data removed]",
      "text/plain": [
       "<Figure size 500x400 with 1 Axes>"
      ]
     },
     "metadata": {},
     "output_type": "display_data"
    }
   ],
   "source": [
    "#Create No-show type specific \n",
    "no_show_yes = df[df[\"No-show\"] == \"Yes\"]\n",
    "no_show_no = df[df[\"No-show\"] == \"No\"]\n",
    "\n",
    "\n",
    "#Comparative Age Statistics\n",
    "print(no_show_yes[\"Age\"].value_counts().sort_index().head())\n",
    "print(no_show_no[\"Age\"].value_counts().sort_index().head())\n",
    "\n",
    "#Creating Plotting Statistics\n",
    "df_age_yes = no_show_yes.groupby(\"No-show\")[\"Age\"].value_counts()\n",
    "df_age_no = no_show_no.groupby(\"No-show\")[\"Age\"].value_counts()\n",
    "\n",
    "#Plotting Relationship\n",
    "f = plt.figure()\n",
    "f.set_figwidth(5)\n",
    "f.set_figheight(4)\n",
    "\n",
    "plt.xlim([0,115])\n",
    "plt.ylim([0,3000])\n",
    "\n",
    "df_age_yes.plot(xlabel = \"Age\", ylabel = \"Count\", title = \"Age Vs No-Show Yes\")\n",
    "plt.show()\n",
    "\n",
    "f = plt.figure()\n",
    "f.set_figwidth(5)\n",
    "f.set_figheight(4)\n",
    "\n",
    "plt.xlim([0,115])\n",
    "plt.ylim([0,3000])\n",
    "df_age_no.plot(xlabel = \"Age\", ylabel = \"Count\", title = \"Age Vs No-Show No\")\n",
    "plt.show()"
   ]
  },
  {
   "attachments": {},
   "cell_type": "markdown",
   "metadata": {},
   "source": [
    ">>Exploring AppointmentDay and ScheduledDay Feature"
   ]
  },
  {
   "cell_type": "code",
   "execution_count": 6,
   "metadata": {},
   "outputs": [
    {
     "name": "stdout",
     "output_type": "stream",
     "text": [
      "No-show  AppointmentDay      \n",
      "Yes      2016-05-16T00:00:00Z    1049\n",
      "         2016-05-09T00:00:00Z    1019\n",
      "         2016-05-10T00:00:00Z     992\n",
      "         2016-05-04T00:00:00Z     973\n",
      "         2016-05-17T00:00:00Z     935\n",
      "Name: AppointmentDay, dtype: int64\n",
      "No-show  AppointmentDay      \n",
      "No       2016-06-06T00:00:00Z    3818\n",
      "         2016-06-08T00:00:00Z    3705\n",
      "         2016-06-01T00:00:00Z    3652\n",
      "         2016-05-30T00:00:00Z    3626\n",
      "         2016-06-07T00:00:00Z    3600\n",
      "Name: AppointmentDay, dtype: int64\n"
     ]
    }
   ],
   "source": [
    "#Comparitive Statistics for Appointment Day\n",
    "df_appointment_yes = no_show_yes.groupby(\"No-show\")[\"AppointmentDay\"].value_counts()\n",
    "print(df_appointment_yes.head())\n",
    "\n",
    "df_appointment_no = no_show_no.groupby(\"No-show\")[\"AppointmentDay\"].value_counts()\n",
    "print(df_appointment_no.head())"
   ]
  },
  {
   "cell_type": "code",
   "execution_count": 7,
   "metadata": {},
   "outputs": [
    {
     "name": "stdout",
     "output_type": "stream",
     "text": [
      "No-show  ScheduledDay        \n",
      "Yes      2016-04-25T17:17:46Z    21\n",
      "         2016-04-25T17:18:27Z    20\n",
      "         2016-04-25T17:17:23Z    16\n",
      "         2016-05-06T07:09:53Z    16\n",
      "         2016-05-06T07:09:54Z    15\n",
      "Name: ScheduledDay, dtype: int64\n",
      "No-show  ScheduledDay        \n",
      "No       2016-03-29T10:44:23Z    11\n",
      "         2016-03-29T10:43:41Z    10\n",
      "         2016-05-04T10:19:32Z     9\n",
      "         2016-05-06T07:09:54Z     9\n",
      "         2016-05-09T15:52:40Z     9\n",
      "Name: ScheduledDay, dtype: int64\n"
     ]
    }
   ],
   "source": [
    "#Comparative Statistics for Appointment Day\n",
    "df_scheduled_yes = no_show_yes.groupby(\"No-show\")[\"ScheduledDay\"].value_counts()\n",
    "print(df_scheduled_yes.head())\n",
    "\n",
    "df_scheduled_no = no_show_no.groupby(\"No-show\")[\"ScheduledDay\"].value_counts()\n",
    "print(df_scheduled_no.head())"
   ]
  },
  {
   "attachments": {},
   "cell_type": "markdown",
   "metadata": {},
   "source": [
    "# Building The Model"
   ]
  },
  {
   "cell_type": "code",
   "execution_count": 8,
   "metadata": {},
   "outputs": [],
   "source": [
    "#Converting Utilized Catagorical Variables to numbers\n",
    "\n",
    "# 1 == Female 0 == Male\n",
    "df[\"Gender\"] = df[\"Gender\"].eq(\"F\").mul(1)\n",
    "\n",
    "# 1 == Yes 0 == No\n",
    "df[\"No-show\"] = df[\"No-show\"].eq(\"Yes\").mul(1)\n",
    "\n",
    "#Selecting the Prediction Target\n",
    "y = df[\"No-show\"]\n",
    "\n",
    "#Choosing Features\n",
    "no_show_features = [\"SMS_received\",\"Age\",\"Alcoholism\"]\n",
    "X = df[no_show_features]\n",
    "\n",
    "#Splitting Training Data\n",
    "X_train,X_test,y_train,y_test = train_test_split(X, y, test_size=0.33, random_state= 0) \n",
    "\n"
   ]
  },
  {
   "cell_type": "code",
   "execution_count": 9,
   "metadata": {},
   "outputs": [
    {
     "name": "stdout",
     "output_type": "stream",
     "text": [
      "[0 0 0 ... 0 0 0]\n"
     ]
    }
   ],
   "source": [
    "#Creation Of Decision Tree\n",
    "decision_tree = tree.DecisionTreeClassifier(max_depth = 4)\n",
    "\n",
    "#Fitting Tree with Training Data\n",
    "decision_tree.fit(X_train,y_train)\n",
    "\n",
    "#Predicting Results\n",
    "y_pred = decision_tree.predict(X_test)\n",
    "print(y_pred)\n",
    "\n"
   ]
  },
  {
   "attachments": {},
   "cell_type": "markdown",
   "metadata": {},
   "source": [
    "# Report Metrics"
   ]
  },
  {
   "cell_type": "code",
   "execution_count": 10,
   "metadata": {},
   "outputs": [
    {
     "name": "stdout",
     "output_type": "stream",
     "text": [
      "              precision    recall  f1-score   support\n",
      "\n",
      "           0       0.80      1.00      0.89     29213\n",
      "           1       1.00      0.00      0.00      7261\n",
      "\n",
      "    accuracy                           0.80     36474\n",
      "   macro avg       0.90      0.50      0.44     36474\n",
      "weighted avg       0.84      0.80      0.71     36474\n",
      "\n"
     ]
    }
   ],
   "source": [
    "#Metrics for Precision, Recall, F-Score\n",
    "from sklearn.metrics import classification_report\n",
    "# 0 = No/False No-show\n",
    "# 1 = Yes/True No-show\n",
    "print(classification_report(y_test, y_pred))\n"
   ]
  },
  {
   "cell_type": "code",
   "execution_count": 11,
   "metadata": {},
   "outputs": [
    {
     "data": {
      "image/png": "[encoded data removed]",
      "text/plain": [
       "<Figure size 700x700 with 1 Axes>"
      ]
     },
     "metadata": {},
     "output_type": "display_data"
    },
    {
     "name": "stdout",
     "output_type": "stream",
     "text": [
      "The ROC AUC Score is: 0.9004743234721575\n"
     ]
    }
   ],
   "source": [
    "#AUC Score\n",
    "roc_auc = roc_auc_score(y_pred,y_test)\n",
    "\n",
    "#ROC Plot\n",
    "\n",
    "#We have to get False Positive Rates and True Postive ratesused to plot the ROC Curve\n",
    "false_positive_rate1, true_positive_rate1, threshold1 = roc_curve(y_pred, y_test)\n",
    "\n",
    "#Plotting ROC Curve\n",
    "plt.subplots(1, figsize=(7,7))\n",
    "plt.title('Receiver Operating Characteristic - DecisionTree')\n",
    "\n",
    "plt.yticks(np.arange(true_positive_rate1.min(), true_positive_rate1.max()))\n",
    "plt.plot(false_positive_rate1, true_positive_rate1)\n",
    "plt.plot([0, 1], ls=\"--\")\n",
    "plt.plot([0, 0], [1, 0] , c=\".7\"), plt.plot([1, 1] , c=\".7\")\n",
    "\n",
    "plt.ylabel('True Positive Rate')\n",
    "plt.xlabel('False Positive Rate')\n",
    "\n",
    "plt.show()\n",
    "print(\"The ROC AUC Score is: \" + str(roc_auc))"
   ]
  },
  {
   "attachments": {},
   "cell_type": "markdown",
   "metadata": {},
   "source": [
    "The AUC score which is the area under the ROC curve is .9 in this case. This is classified as a good AUC score with great discrimination on observations into classes."
   ]
  },
  {
   "attachments": {},
   "cell_type": "markdown",
   "metadata": {},
   "source": [
    "# Q2. Inductive Biases in the Decision Tree\n",
    "\n",
    "Decision tree’s inductive bias lies within its depth and how much generalization occurs in the model. A low depth could show too much generalization in the model. On the other hand, too little generalization with too much depth. My model was not performing very well on the “True” result of the test dataset as well as the training dataset signaling underfitting. I believe my model may not be using the best attributes for information gain close to the model with my depth being on the shorter side. Precision high with a value of 1 in the model; however, the recall is 0. This shows an inductive bias to people showing up to work which is the False negative portion of the confusion matrix."
   ]
  }
 ],
 "metadata": {
  "kernelspec": {
   "display_name": "Python 3",
   "language": "python",
   "name": "python3"
  },
  "language_info": {
   "codemirror_mode": {
    "name": "ipython",
    "version": 3
   },
   "file_extension": ".py",
   "mimetype": "text/x-python",
   "name": "python",
   "nbconvert_exporter": "python",
   "pygments_lexer": "ipython3",
   "version": "3.10.7"
  },
  "orig_nbformat": 4,
  "vscode": {
   "interpreter": {
    "hash": "460b781dad6108c2e2b927985b8df4a9aa8b01088baecdc4d14ba6677b90611d"
   }
  }
 },
 "nbformat": 4,
 "nbformat_minor": 2
}
